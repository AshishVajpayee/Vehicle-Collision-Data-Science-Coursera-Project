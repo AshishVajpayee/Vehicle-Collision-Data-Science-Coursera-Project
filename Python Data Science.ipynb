{
 "cells": [
  {
   "cell_type": "code",
   "execution_count": 2,
   "id": "8a98d0f2",
   "metadata": {},
   "outputs": [
    {
     "ename": "SyntaxError",
     "evalue": "invalid syntax. Perhaps you forgot a comma? (Temp/ipykernel_10396/237764441.py, line 73)",
     "output_type": "error",
     "traceback": [
      "\u001b[1;36m  File \u001b[1;32m\"C:\\Users\\ASHISH~1\\AppData\\Local\\Temp/ipykernel_10396/237764441.py\"\u001b[1;36m, line \u001b[1;32m73\u001b[0m\n\u001b[1;33m    st.write(original_data.query(\"injured_pedestrians >= 1\")[[\"on_street_name\", \"injured_pedestrians\"]].sort_values(by=['injured_pedestrians'], ascending=False)dropna(how='any')[:5])\u001b[0m\n\u001b[1;37m             ^\u001b[0m\n\u001b[1;31mSyntaxError\u001b[0m\u001b[1;31m:\u001b[0m invalid syntax. Perhaps you forgot a comma?\n"
     ]
    }
   ],
   "source": [
    "import streamlit as st\n",
    "import pandas as pd\n",
    "import numpy as np\n",
    "import pydeck as pdk\n",
    "import plotly.express as px\n",
    "\n",
    "DATA_URL = (\n",
    "\"Motor_Vehicle_Collisions_-_Crashes.csv\"\n",
    ")\n",
    "\n",
    "st.title(\"Motor Vehicle Collisions in New York City\")\n",
    "st.markdown(\"This application is a Streamlit dashboard taht can be used to analyze motor vehicle collisions in NYC 💥🚗\")\n",
    "@st.cache(persist=True)\n",
    "def load_data(nrows):\n",
    "    data = pd.read_csv(DATA_URL, nrows=nrows, parse_dates=[['CRASH_DATE', 'CRASH_TIME']])\n",
    "    data.dropna(subset=['LATITUDE', 'LONGITUDE'], inplace=True)\n",
    "    lowercase = lambda x: str(x).lower()\n",
    "    data.rename(lowercase, axis='columns', inplace = True)\n",
    "    data.rename(columns={'crash_date_crash_time': 'date/time'}, inplace=True)\n",
    "    return data\n",
    "\n",
    "data = load_data(100000)\n",
    "original_data = data\n",
    "\n",
    "st.header(\"where are the most people injured in NYC?\")\n",
    "injured_people = st.slider(\"Number of persons injured in vehicle collisions\", 0, 19)\n",
    "st.map(data.query(\"injured_persons >= @injured_people\")[[\"latitude\", \"longitude\"]].dropna(how=\"any\"))\n",
    "\n",
    "\n",
    "\n",
    "st.header(\"How many collisions occur during a given time a day?\")\n",
    "hour = st.slider(\"Hour to look at\", 0, 23)\n",
    "data = data[data['date/time'].dt.hour == hour]\n",
    "\n",
    "st.markdown(\"Vehicle Collisions between %i:00 and %i:00\" % (hour,(hour + 1) % 24))\n",
    "midpoint = (np.average(data['latitude']), np.average(data['longitude']))\n",
    "\n",
    "st.write(pdk.Deck(\n",
    "    map_style = \"mapbox://styles/mapbox/light-v9\",\n",
    "    initial_view_state={\n",
    "        \"latitude\": midpoint[0],\n",
    "        \"longitude\": midpoint[1],\n",
    "        \"zoom\": 11,\n",
    "        \"pitch\": 50,\n",
    "    },\n",
    "    layers = [\n",
    "        pdk.Layer(\n",
    "        \"HexagonLayer\",\n",
    "        data=data[['date/time', 'latitude', 'longitude']],\n",
    "        get_position = ['longitude', 'latitude'],\n",
    "        radius=100,\n",
    "        extruded=True,\n",
    "        pickable=True,\n",
    "        elevation_scale=4,\n",
    "        elevation_range=[0, 1000],\n",
    "        ),\n",
    "    ]\n",
    "))\n",
    "\n",
    "st.subheader(\"Breakdown by minute between %i:00 and %i:00\" %(hour, (hour + 1) %24))\n",
    "filtered = data[\n",
    "    (data['date/time'].dt.hour >= hour) & (data['date/time'].dt.hour < (hour +1))\n",
    "]\n",
    "hist = np.histogram(filtered['date/time'].dt.minute, bins=60, range=(0, 60))[0]\n",
    "chart_data = pd.DataFrame({'minute': range(60), 'crashes':hist})\n",
    "fig = px.bar(chart_data, x='minute', y='crashes', hover_data=['minute', 'crashes'], height=400)\n",
    "st.write(fig)\n",
    "\n",
    "st.header(\"Top 5 dangerous streets by affected type\")\n",
    "select = st.selectbox('Affected type of people', ['Pedestrians', 'Cyclists', 'Motorists'])\n",
    "\n",
    "if select == 'Pedestrians':\n",
    "    st.write(original_data.query(\"injured_pedestrians >= 1\")[[\"on_street_name\", \"injured_pedestrians\"]].sort_values(by=['injured_pedestrians'], ascending=False)dropna(how='any')[:5])\n",
    "\n",
    "elif select == 'Cyclists':\n",
    "    st.write(original_data.query(\"injured_cyclists >= 1\")[[\"on_street_name\", \"injured_cyclists\"]].sort_values(by=['injured_cyclists'], ascending=False)dropna(how='any')[:5])\n",
    "\n",
    "\n",
    "else:\n",
    "    st.write(original_data.query(\"injured_motorists >= 1\")[[\"on_street_name\", \"injured_motorists\"]].sort_values(by=['injured_motorists'], ascending=False)dropna(how='any')[:5])\n",
    "\n",
    "\n",
    "if st.checkbox(\"Show Raw Data\", False):\n",
    "\n",
    "    st.subheader('Raw Data')\n",
    "    st.write(data)\n"
   ]
  },
  {
   "cell_type": "code",
   "execution_count": 4,
   "id": "5f9618ed",
   "metadata": {},
   "outputs": [
    {
     "name": "stderr",
     "output_type": "stream",
     "text": [
      "2022-04-29 01:29:27.797 \n",
      "  \u001b[33m\u001b[1mWarning:\u001b[0m to view this Streamlit app on a browser, run it with the following\n",
      "  command:\n",
      "\n",
      "    streamlit run C:\\Users\\Ashishvajpayee\\AppData\\Local\\Programs\\Python\\Python310\\lib\\site-packages\\ipykernel_launcher.py [ARGUMENTS]\n"
     ]
    }
   ],
   "source": [
    "import streamlit as st\n",
    "st.write(\"Hello World!\")"
   ]
  },
  {
   "cell_type": "code",
   "execution_count": null,
   "id": "9dd46e88",
   "metadata": {},
   "outputs": [],
   "source": []
  }
 ],
 "metadata": {
  "kernelspec": {
   "display_name": "Python 3 (ipykernel)",
   "language": "python",
   "name": "python3"
  },
  "language_info": {
   "codemirror_mode": {
    "name": "ipython",
    "version": 3
   },
   "file_extension": ".py",
   "mimetype": "text/x-python",
   "name": "python",
   "nbconvert_exporter": "python",
   "pygments_lexer": "ipython3",
   "version": "3.10.0"
  }
 },
 "nbformat": 4,
 "nbformat_minor": 5
}
